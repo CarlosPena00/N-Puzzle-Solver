{
 "cells": [
  {
   "cell_type": "code",
   "execution_count": 1,
   "metadata": {},
   "outputs": [],
   "source": [
    "import numpy as np\n",
    "import cv2\n",
    "import matplotlib.pyplot as plt\n",
    "import imageio\n",
    "from IPython.display import Image\n",
    "from pathlib import Path\n",
    "from glob import glob\n",
    "import pandas as pd\n",
    "from tqdm import tqdm\n",
    "import os\n",
    "from  sklearn.metrics import pairwise_distances\n",
    "\n",
    "plt.rcParams.update({'font.size': 22})\n"
   ]
  },
  {
   "cell_type": "code",
   "execution_count": 2,
   "metadata": {},
   "outputs": [],
   "source": [
    "def show_cities(lines):\n",
    "    plt.figure(figsize=(8,12));plt.axis('off')\n",
    "    plt.scatter(lines[:, 1], lines[:, 0])\n",
    "    \n",
    "def plot_path(positions, solution, pre_title=''):\n",
    "    \n",
    "    plt.title(f\"{pre_title} {get_path_distance(solution, distance):0.0f}\")\n",
    "    \n",
    "    plt.scatter(positions[:, 1], positions[:, 0])\n",
    "    \n",
    "    for idx in range(len(solution)):    \n",
    "        pt1 = solution[idx]\n",
    "        pt2 = solution[idx+1] if idx+1 != len(solution) else solution[0]\n",
    "        st  = positions[pt1]\n",
    "        end = positions[pt2]\n",
    "        plt.plot([st[1], end[1]], [st[0], end[0]], 'r')\n",
    "        \n",
    "def get_path_distance(solution, distance):\n",
    "    sum_dist = 0\n",
    "    len_sol = len(solution)\n",
    "    for idx in (solution):\n",
    "        start  = solution[idx]\n",
    "        end    = solution[(idx+1)%len_sol]\n",
    "        sum_dist += distance[start, end]\n",
    "    return sum_dist\n",
    "\n",
    "\n",
    "def get_children(solution):    \n",
    "    children = []\n",
    "    len_sol = len(solution)\n",
    "    for idx in range(len_sol):\n",
    "        ridx = (idx+1) % len_sol\n",
    "        temp = solution.copy()\n",
    "        temp[idx], temp[ridx] = temp[ridx], temp[idx]\n",
    "        children.append(temp)\n",
    "    return children\n",
    "\n",
    "def get_best_child(solution, distance):\n",
    "    the_child = -1\n",
    "    best_dist = 9e20\n",
    "    children  = get_children(solution)\n",
    "    for child in children:\n",
    "        dist = get_path_distance(child, distance)\n",
    "        if dist < best_dist:\n",
    "            the_child  = child\n",
    "            best_dist = dist\n",
    "\n",
    "    return np.array(the_child), best_dist\n",
    "\n",
    "def get_best_child_r(solution, distance):\n",
    "    children  = -1\n",
    "    best_dist = 9e20\n",
    "    len_sol   = len(solution) \n",
    "    for idx in range(len_sol):\n",
    "        ridx  = np.random.randint(len_sol)\n",
    "        temp  = solution.copy()\n",
    "        temp[idx], temp[ridx] = temp[ridx], temp[idx]\n",
    "        dist = get_path_distance(temp, distance)\n",
    "        if dist < best_dist:\n",
    "            children = temp\n",
    "            best_dist = dist\n",
    "\n",
    "    \n",
    "    return children, best_dist\n",
    "\n",
    "def get_best_child_n(actual_solution, distance):\n",
    "    children  = -1\n",
    "    best_dist = 9e20\n",
    "    \n",
    "    len_sol = len(actual_solution)\n",
    "    for idx in range(len_sol):\n",
    "        some_solution = actual_solution.copy()\n",
    "        curr = some_solution[idx]\n",
    "        bef  = some_solution[idx-1]\n",
    "        after = some_solution[(idx+1)%len_sol]\n",
    "\n",
    "        cand = distance[curr].argsort()[1:3]\n",
    "        cand = cand[0] if cand[0] != bef else cand[1]\n",
    "\n",
    "        idx1 = np.where(some_solution==after)[0][0]\n",
    "        idx2 = np.where(some_solution==cand)[0][0]\n",
    "        some_solution[idx1], some_solution[idx2] = some_solution[idx2], some_solution[idx1]\n",
    "        \n",
    "        dist = get_path_distance(some_solution, distance)\n",
    "        if dist < best_dist:\n",
    "            children = some_solution\n",
    "            best_dist = dist\n",
    "        \n",
    "    return children, best_dist"
   ]
  },
  {
   "cell_type": "code",
   "execution_count": 16,
   "metadata": {},
   "outputs": [],
   "source": [
    "#countrie = [\"Qatar\", \"qa194\"] # Optimal tour has length 9352.\n",
    "countrie = [\"Djibouti\", \"dj38\"] # Optimal tour has length 6656.\n",
    "save_path = f\"extra/{countrie[0]}\"\n",
    "data_path = f\"{save_path}/data.tsv\"\n",
    "Path(save_path).mkdir(exist_ok=True, parents=True)"
   ]
  },
  {
   "cell_type": "code",
   "execution_count": 17,
   "metadata": {},
   "outputs": [],
   "source": [
    "if not Path(data_path).exists():\n",
    "    cmd = f\"wget http://www.math.uwaterloo.ca/tsp/world/{countrie[1]}.tsp -O {data_path}\"\n",
    "    os.system(cmd)"
   ]
  },
  {
   "cell_type": "code",
   "execution_count": 18,
   "metadata": {},
   "outputs": [],
   "source": [
    "with open(data_path, \"r\") as f:\n",
    "    lines = f.readlines()\n",
    "lines = map(lambda x: x.replace('\\n', ''), lines)\n",
    "lines = list(filter(lambda x: x.split(\" \")[0].isnumeric(), list(lines)));\n",
    "lines = list(map(lambda x: list(map(lambda y: float(y), x.split(\" \")))[1:], lines))\n",
    "positions = np.array(lines)\n",
    "\n",
    "num_cities       = len(lines)\n",
    "initial_solution = list(range(num_cities))\n",
    "\n",
    "\n",
    "Xmin = positions[:, 0].min()\n",
    "Ymin = positions[:, 1].min()\n",
    "\n",
    "#positions[:, 0] -= Xmin\n",
    "#positions[:, 1] -= Ymin\n",
    "\n",
    "Xmax = positions[:, 0].max()\n",
    "Ymax = positions[:, 1].max()"
   ]
  },
  {
   "cell_type": "code",
   "execution_count": 19,
   "metadata": {},
   "outputs": [
    {
     "data": {
      "image/png": "[encoded data removed]",
      "text/plain": [
       "<Figure size 432x288 with 2 Axes>"
      ]
     },
     "metadata": {
      "needs_background": "light"
     },
     "output_type": "display_data"
    }
   ],
   "source": [
    "distance = pairwise_distances(positions)\n",
    "\n",
    "plt.title(\"Distance All to All\")\n",
    "plt.imshow(distance, cmap='jet')\n",
    "plt.colorbar();plt.axis('off');"
   ]
  },
  {
   "cell_type": "code",
   "execution_count": 20,
   "metadata": {},
   "outputs": [],
   "source": [
    "def hill_climber(positions, distance, child_code='D', rseed=10):\n",
    "    actual = np.array((range(num_cities)))\n",
    "    np.random.seed(rseed)\n",
    "    np.random.shuffle(actual)\n",
    "    dist = get_path_distance(actual, distance)\n",
    "    t = (range(10_000))\n",
    "    for idx in t:\n",
    "        if child_code == 'R':\n",
    "            child, child_dist = get_best_child_r(actual, distance)\n",
    "        elif child_code == 'D':\n",
    "            child, child_dist = get_best_child(actual, distance)\n",
    "        elif child_code == 'N':\n",
    "            child, child_dist = get_best_child_n(actual, distance)\n",
    "        \n",
    "        \n",
    "        if child_dist < dist:\n",
    "            dist = child_dist\n",
    "            actual = child\n",
    "        else:\n",
    "            break\n",
    "        #t.set_description(f\"Dist {dist:0.0f}\")\n",
    "        \n",
    "    return actual, dist"
   ]
  },
  {
   "cell_type": "code",
   "execution_count": null,
   "metadata": {},
   "outputs": [
    {
     "name": "stderr",
     "output_type": "stream",
     "text": [
      "Dist 15751:  41%|████      | 4096/10000 [06:23<06:16, 15.66it/s]"
     ]
    }
   ],
   "source": [
    "code = 'D'\n",
    "actual, dist = -1, 9999999999\n",
    "\n",
    "t = tqdm(range(10000))\n",
    "for idx in t:\n",
    "    new, new_dist = hill_climber(positions, distance, child_code=code, rseed=idx)\n",
    "    if new_dist < dist:\n",
    "        actual = new\n",
    "        dist = new_dist\n",
    "         \n",
    "    t.set_description(f\"Dist {dist:0.0f}\")"
   ]
  },
  {
   "cell_type": "code",
   "execution_count": null,
   "metadata": {},
   "outputs": [],
   "source": [
    "code = 'R'\n",
    "actual_r, dist_r = -1, 9999999999\n",
    "\n",
    "t = tqdm(range(10000))\n",
    "for idx in t:\n",
    "    new, new_dist = hill_climber(positions, distance, child_code=code, rseed=idx)\n",
    "    if new_dist < dist_r:\n",
    "        actual_r = new\n",
    "        dist_r = new_dist\n",
    "         \n",
    "    t.set_description(f\"DistR {dist_r:0.0f}\")"
   ]
  },
  {
   "cell_type": "code",
   "execution_count": null,
   "metadata": {},
   "outputs": [],
   "source": [
    "code = 'N'\n",
    "actual_n, dist_n = -1, 9999999999\n",
    "\n",
    "t = tqdm(range(10000))\n",
    "for idx in t:\n",
    "    new, new_dist = hill_climber(positions, distance, child_code=code, rseed=idx)\n",
    "    if new_dist < dist_n:\n",
    "        actual_n = new\n",
    "        dist_n = new_dist\n",
    "         \n",
    "    t.set_description(f\"DistB {dist_n:0.0f}\")"
   ]
  },
  {
   "cell_type": "code",
   "execution_count": null,
   "metadata": {},
   "outputs": [],
   "source": [
    "started = np.array(list(range((num_cities))))\n",
    "shuffle = np.array(list(range((num_cities))))\n",
    "np.random.seed(10)\n",
    "np.random.shuffle(shuffle)"
   ]
  },
  {
   "cell_type": "code",
   "execution_count": null,
   "metadata": {},
   "outputs": [],
   "source": [
    "plt.figure(figsize=(8*5,12))\n",
    "plt.subplot(151);plt.axis('off')\n",
    "plot_path(positions, initial_solution, \"inital\")\n",
    "plt.subplot(152);plt.axis('off')\n",
    "plot_path(positions, shuffle, \"Shuffle\")\n",
    "plt.subplot(153);plt.axis('off')\n",
    "plot_path(positions, actual, \"Neighborhood Perm\")\n",
    "plt.subplot(154);plt.axis('off')\n",
    "plot_path(positions, actual_r, \"Random Perm\")\n",
    "plt.subplot(155);plt.axis('off')\n",
    "plot_path(positions, actual_n, \"Near Perm\")\n",
    "plt.savefig(f\"{save_path}/summary.png\")"
   ]
  },
  {
   "cell_type": "code",
   "execution_count": null,
   "metadata": {},
   "outputs": [],
   "source": []
  }
 ],
 "metadata": {
  "kernelspec": {
   "display_name": "dl",
   "language": "python",
   "name": "dl"
  },
  "language_info": {
   "codemirror_mode": {
    "name": "ipython",
    "version": 3
   },
   "file_extension": ".py",
   "mimetype": "text/x-python",
   "name": "python",
   "nbconvert_exporter": "python",
   "pygments_lexer": "ipython3",
   "version": "3.6.11"
  }
 },
 "nbformat": 4,
 "nbformat_minor": 4
}
