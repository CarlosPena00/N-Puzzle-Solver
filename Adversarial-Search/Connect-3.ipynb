{
 "cells": [
  {
   "cell_type": "code",
   "execution_count": 285,
   "metadata": {},
   "outputs": [],
   "source": [
    "import cv2\n",
    "import numpy as np\n",
    "import matplotlib.pyplot as plt"
   ]
  },
  {
   "cell_type": "code",
   "execution_count": 287,
   "metadata": {},
   "outputs": [],
   "source": [
    "def show_board(board):\n",
    "    plt.imshow(board)\n",
    "    for (j,i),label in np.ndenumerate(board[..., 0]):\n",
    "        text = ''\n",
    "        if label == 0: text = 'Black'\n",
    "        if label == 254: text = 'Red'\n",
    "        plt.text(i,j,text,ha='center',va='center', fontsize=15, color='white')\n",
    "    plt.axis('off');"
   ]
  },
  {
   "cell_type": "code",
   "execution_count": 298,
   "metadata": {},
   "outputs": [],
   "source": [
    "def do_action(idx, color, board):\n",
    "    col = board[:, idx, 0]\n",
    "    pos_position = np.where(col==255)[0]\n",
    "    if len(pos_position) == 0:\n",
    "        print(\"Impossible\")\n",
    "        return -1\n",
    "    idy = pos_position[-1]\n",
    "    \n",
    "    if color == 'R': board[idy, idx] = red_val\n",
    "    if color == 'B': board[idy, idx] = black_val\n",
    "        \n",
    "def check_win(board):\n",
    "    sol_board = board[:, :, 0]\n",
    "    arr_sums = []\n",
    "    for idy in range(3):\n",
    "        for idx in range(2):\n",
    "            arr_sums.append(sol_board[idy, idx:idx+3].sum())\n",
    "\n",
    "    for idx in range(4):\n",
    "        arr_sums.append(sol_board[:, idx].sum())\n",
    "\n",
    "    for off in range(2):\n",
    "        arr_sums.append(sol_board.diagonal(off).sum())\n",
    "\n",
    "    for off in range(2):\n",
    "        arr_sums.append(np.flipud(sol_board).diagonal(0).sum())\n",
    "\n",
    "    for elem in arr_sums:\n",
    "        if elem == 0:\n",
    "            print(\"Black Wins!\")\n",
    "            return 'B'\n",
    "        elif elem == 762:\n",
    "            print(\"Red Wins!\")\n",
    "            return 'R'\n",
    "    if len(np.where(sol_board==255)[0])==0:\n",
    "        print(\"Tie!\")\n",
    "        return 'T'\n",
    "    return 'N'"
   ]
  },
  {
   "cell_type": "code",
   "execution_count": 307,
   "metadata": {},
   "outputs": [],
   "source": [
    "board = np.ones([3,4, 3], dtype=np.uint8) * 255\n",
    "red_val   = [254, 0, 0]\n",
    "black_val = [0, 0, 0]"
   ]
  },
  {
   "cell_type": "code",
   "execution_count": 309,
   "metadata": {},
   "outputs": [
    {
     "data": {
      "text/plain": [
       "'N'"
      ]
     },
     "execution_count": 309,
     "metadata": {},
     "output_type": "execute_result"
    },
    {
     "data": {
      "image/png": "[encoded data removed]",
      "text/plain": [
       "<Figure size 432x288 with 1 Axes>"
      ]
     },
     "metadata": {
      "needs_background": "light"
     },
     "output_type": "display_data"
    }
   ],
   "source": [
    "show_board(board)\n",
    "check_win(board)"
   ]
  },
  {
   "cell_type": "code",
   "execution_count": 319,
   "metadata": {},
   "outputs": [
    {
     "name": "stdout",
     "output_type": "stream",
     "text": [
      "Black Wins!\n"
     ]
    },
    {
     "data": {
      "image/png": "[encoded data removed]",
      "text/plain": [
       "<Figure size 432x288 with 1 Axes>"
      ]
     },
     "metadata": {
      "needs_background": "light"
     },
     "output_type": "display_data"
    }
   ],
   "source": [
    "#do_action(3, 'B', board)\n",
    "show_board(board)\n",
    "check_win(board)"
   ]
  }
 ],
 "metadata": {
  "kernelspec": {
   "display_name": "dl",
   "language": "python",
   "name": "dl"
  },
  "language_info": {
   "codemirror_mode": {
    "name": "ipython",
    "version": 3
   },
   "file_extension": ".py",
   "mimetype": "text/x-python",
   "name": "python",
   "nbconvert_exporter": "python",
   "pygments_lexer": "ipython3",
   "version": "3.6.11"
  }
 },
 "nbformat": 4,
 "nbformat_minor": 4
}
