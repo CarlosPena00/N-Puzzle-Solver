{
 "cells": [
  {
   "cell_type": "code",
   "execution_count": 1,
   "metadata": {},
   "outputs": [],
   "source": [
    "import cv2\n",
    "import numpy as np\n",
    "import matplotlib.pyplot as plt"
   ]
  },
  {
   "cell_type": "code",
   "execution_count": 2,
   "metadata": {},
   "outputs": [],
   "source": [
    "board = np.ones([3,4], dtype=np.uint8) * 255\n",
    "red_val, red_color = 1, [255,0,0]\n",
    "black_val, black_color = 0, [0,0,0]\n",
    "blank_val, blank_color = 255, [255,255,255]\n",
    "val2color = {red_val:red_color,\n",
    "             black_val:black_color,\n",
    "             blank_val:blank_color}\n",
    "tag2val = {'R':red_val, 'B':black_val}\n",
    "tag2opponent = {'R':'B', 'B':'R'}"
   ]
  },
  {
   "cell_type": "code",
   "execution_count": 3,
   "metadata": {},
   "outputs": [],
   "source": [
    "def show_weight(weight):\n",
    "    plt.imshow(weight)\n",
    "    for (j,i),label in np.ndenumerate(weight):\n",
    "        text = ''\n",
    "        plt.text(i,j,f\"{label}\",ha='center',va='center', fontsize=20)\n",
    "    plt.axis('off');\n",
    "    plt.colorbar()\n",
    "    plt.savefig('extra/simple_weight.png')\n",
    "    \n",
    "def bypass(row):\n",
    "    return np.array(list(map(convert, row)))\n",
    "    \n",
    "def convert(val):\n",
    "    return val2color[val]\n",
    "\n",
    "def show_board(board):\n",
    "    view_board = np.array(list(map(bypass,board)))\n",
    "       \n",
    "    plt.imshow(view_board)\n",
    "    for (j,i),label in np.ndenumerate(board):\n",
    "        text = ''\n",
    "        if label == black_val: text = 'Black'\n",
    "        if label == red_val: text = 'Red'\n",
    "        plt.text(i,j,text,ha='center',va='center', fontsize=15, color='white')\n",
    "    plt.axis('off');\n",
    "\n",
    "def do_action(idx, tag, board, tree=None, verbose=True):\n",
    "    col = board[:, idx]\n",
    "    pos_position = np.where(col==255)[0]\n",
    "    if len(pos_position) == 0:\n",
    "        if verbose: print(\"Impossible\")\n",
    "        return board, -1, None\n",
    "    idy = pos_position[-1]\n",
    "    board[idy, idx] = tag2val[tag]\n",
    "    if tree is None:\n",
    "        return board, 0, None\n",
    "    else:\n",
    "        return board, 0, tree[idx]\n",
    "    \n",
    "def check_win(sol_board, verbose=True):\n",
    "    arr_sums = []\n",
    "    for idy in range(3):\n",
    "        for idx in range(2):\n",
    "            arr_sums.append(sol_board[idy, idx:idx+3].sum())\n",
    "\n",
    "    for idx in range(4):\n",
    "        arr_sums.append(sol_board[:, idx].sum())\n",
    "\n",
    "    for off in range(2):\n",
    "        arr_sums.append(sol_board.diagonal(off).sum())\n",
    "\n",
    "    for off in range(2):\n",
    "        arr_sums.append(np.flipud(sol_board).diagonal(off).sum())\n",
    "\n",
    "    for elem in arr_sums:\n",
    "        if elem == black_val*3:\n",
    "            if verbose:print(\"Black Wins!\")\n",
    "            return 'B'\n",
    "        elif elem == red_val*3:\n",
    "            if verbose:print(\"Red Wins!\")\n",
    "            return 'R'\n",
    "    if len(np.where(sol_board==255)[0])==0:\n",
    "        if verbose:print(\"Tie!\")\n",
    "        return 'T'\n",
    "    return 'N'\n",
    "\n",
    "def makeGaussWeight(size=(3,4), fwhm = 3, center=None):\n",
    "\n",
    "    x = np.arange(0, size[1], 1, float)\n",
    "    y = np.arange(0, size[0], 1, float)[:, None]\n",
    "    \n",
    "    x0 = size[1] // 2\n",
    "    y0 = size[0] // 2\n",
    "    exp1 = np.exp(-4*np.log(2) * ((x-x0)**2 + (y-y0)**2) / fwhm**2)\n",
    "    exp2 = np.exp(-4*np.log(2) * ((x-x0+1)**2 + (y-y0)**2) / fwhm**2)\n",
    "\n",
    "    return exp1+exp2\n",
    "\n",
    "def makeWeight(size=(3,4), low=1, middle=2, high=4):\n",
    "    weight = np.zeros(size)\n",
    "    for j in range(size[0]):\n",
    "        for i in range(size[1]):\n",
    "\n",
    "            if (j == 0 or j==size[0]-1) and (i == 0 or i == size[1]-1):\n",
    "                val = low\n",
    "            elif j==0 or j==size[0]-1 or i==0 or i==size[1]-1:\n",
    "                val = middle\n",
    "            else:\n",
    "                val = high\n",
    "            weight[j, i] = val\n",
    "    return weight\n",
    "simpleW = makeWeight()\n",
    "\n",
    "def Heuristics2(board, tag, win_num=30):\n",
    "    # Based on Research on Different Heuristics for Minimax Algorithm Insight from Connect-4 Game\n",
    "    # val, can_continue\n",
    "    op = tag2opponent[tag]\n",
    "    board_status = check_win(board, False)\n",
    "    if board_status == tag: return win_num, False \n",
    "    if board_status == op:  return -win_num, False\n",
    "    if board_status == 'T': return 0, False\n",
    "    \n",
    "    val, op_val = tag2val[tag], tag2val[op] \n",
    "    wcurr = simpleW[(board == val)].sum()\n",
    "    wopp  = simpleW[(board == op_val)].sum()\n",
    "    return wcurr - wopp, True\n",
    "\n",
    "def check_action(idx, board):\n",
    "    col = board[:, idx]\n",
    "    pos_position = np.where(col==255)[0]\n",
    "    return len(pos_position) != 0\n",
    "\n",
    "def step(board, tag):\n",
    "    row = {}\n",
    "    for idx in range(board.shape[1]):\n",
    "       \n",
    "        new_board, code, _ = do_action(idx, tag, board.copy())\n",
    "        val, can_run = Heuristics2(new_board, tag)\n",
    "        row[idx] = {'board': new_board,\n",
    "                    'val': val,\n",
    "                    'can_run': can_run}\n",
    "    return row\n",
    "   \n",
    "def isNum(val):\n",
    "    return type(val) == int"
   ]
  },
  {
   "cell_type": "code",
   "execution_count": 4,
   "metadata": {},
   "outputs": [],
   "source": [
    "def get_reward(code, start_tag):\n",
    "    if code == 'T': reward = 0\n",
    "    if code == start_tag: reward = 1\n",
    "    if code == tag2opponent[start_tag]: reward = -1\n",
    "    return reward\n",
    "\n",
    "def create(board, h=0, start_tag='R', save_board=False):\n",
    "    tag  = start_tag if (h%2)==0 else tag2opponent[start_tag]\n",
    "    code = check_win(board, verbose=False)\n",
    "    if code == 'T' or code == 'B' or code == 'R': #END GAME\n",
    "        reward = get_reward(code, start_tag)\n",
    "        info = {'reward':reward, 'h':h}\n",
    "        if save_board:\n",
    "            info['board'] = board\n",
    "        return info\n",
    "    else:\n",
    "        row = {}\n",
    "        for idx in range(board.shape[1]): # For every place\n",
    "            new_board, code, _ = do_action(idx, tag, board.copy(), verbose=False)\n",
    "            if code == -1: continue# Invalid action\n",
    "            row[idx] = create(new_board, h+1, start_tag, save_board)\n",
    "            if save_board:\n",
    "                row[idx]['board'] = board\n",
    "        rewards_list = list(map(lambda x: x['reward'], row.values()))\n",
    "        \n",
    "        #reward = np.sum(rewards_list)\n",
    "        reward = max(rewards_list) if tag==start_tag else min(rewards_list)\n",
    "        \n",
    "        row['reward'] = reward\n",
    "        row['h'] = h\n",
    "    return row"
   ]
  },
  {
   "cell_type": "code",
   "execution_count": 5,
   "metadata": {},
   "outputs": [
    {
     "name": "stdout",
     "output_type": "stream",
     "text": [
      "CPU times: user 16 s, sys: 40.3 ms, total: 16 s\n",
      "Wall time: 16 s\n"
     ]
    }
   ],
   "source": [
    "%%time\n",
    "board = np.ones([3,4], dtype=np.uint8) * 255\n",
    "tree_original = create(board)\n",
    "tree = tree_original.copy()"
   ]
  },
  {
   "cell_type": "code",
   "execution_count": 6,
   "metadata": {},
   "outputs": [
    {
     "data": {
      "image/png": "[encoded data removed]",
      "text/plain": [
       "<Figure size 432x288 with 1 Axes>"
      ]
     },
     "metadata": {
      "needs_background": "light"
     },
     "output_type": "display_data"
    }
   ],
   "source": [
    "tree = tree_original.copy()\n",
    "board = np.ones([3,4], dtype=np.uint8) * 255\n",
    "board, code, tree = do_action(1, 'R',board, tree=tree, verbose=False)\n",
    "show_board(board)"
   ]
  },
  {
   "cell_type": "code",
   "execution_count": 7,
   "metadata": {},
   "outputs": [],
   "source": [
    "def get_childs_reward(branch):\n",
    "    for key in (branch.keys()):\n",
    "        if type(key) is int:\n",
    "            print(\"P:\", key, \"R:\",branch[key]['reward'])"
   ]
  },
  {
   "cell_type": "code",
   "execution_count": 8,
   "metadata": {},
   "outputs": [],
   "source": [
    "def get_action(tree, is_max=False, verbose=True):\n",
    "    target = [-1, 1][int(is_max)]\n",
    "    ret_p = -1\n",
    "    possible_actions = list(filter(isNum,(tree.keys())))\n",
    "    for p in possible_actions:\n",
    "        r = tree[p]['reward']\n",
    "        if verbose:print(p, r)\n",
    "        if r == target: return p\n",
    "        if r == 0: ret_p = p\n",
    "    if ret_p != target: return ret_p\n",
    "    return possible_actions[0]\n",
    "\n",
    "def do_min_action(tag, board, tree=None, verbose=True):\n",
    "    code = check_win(board, verbose=verbose)\n",
    "    if code != 'N': return board, code, tree\n",
    "    idx = get_action(tree, is_max=False)\n",
    "    return do_action(idx, tag, board, tree=tree, verbose=verbose)\n"
   ]
  },
  {
   "cell_type": "code",
   "execution_count": 33,
   "metadata": {},
   "outputs": [],
   "source": [
    "tree = tree_original.copy()\n",
    "board = np.ones([3,4], dtype=np.uint8) * 255"
   ]
  },
  {
   "cell_type": "code",
   "execution_count": 44,
   "metadata": {},
   "outputs": [
    {
     "data": {
      "image/png": "[encoded data removed]",
      "text/plain": [
       "<Figure size 432x288 with 1 Axes>"
      ]
     },
     "metadata": {
      "needs_background": "light"
     },
     "output_type": "display_data"
    }
   ],
   "source": [
    "board, code, tree = do_action(1, 'R',board, verbose=False, tree=tree)\n",
    "show_board(board)\n"
   ]
  },
  {
   "cell_type": "code",
   "execution_count": 45,
   "metadata": {},
   "outputs": [
    {
     "name": "stdout",
     "output_type": "stream",
     "text": [
      "1 0\n"
     ]
    },
    {
     "data": {
      "image/png": "[encoded data removed]",
      "text/plain": [
       "<Figure size 432x288 with 1 Axes>"
      ]
     },
     "metadata": {
      "needs_background": "light"
     },
     "output_type": "display_data"
    }
   ],
   "source": [
    "board, code, tree = do_min_action('B', board, tree)\n",
    "show_board(board)"
   ]
  }
 ],
 "metadata": {
  "kernelspec": {
   "display_name": "Python 3",
   "language": "python",
   "name": "python3"
  },
  "language_info": {
   "codemirror_mode": {
    "name": "ipython",
    "version": 3
   },
   "file_extension": ".py",
   "mimetype": "text/x-python",
   "name": "python",
   "nbconvert_exporter": "python",
   "pygments_lexer": "ipython3",
   "version": "3.7.9"
  }
 },
 "nbformat": 4,
 "nbformat_minor": 4
}
